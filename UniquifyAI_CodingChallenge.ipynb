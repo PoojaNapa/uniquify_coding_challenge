{
  "nbformat": 4,
  "nbformat_minor": 0,
  "metadata": {
    "colab": {
      "name": "UniquifyAI_CodingChallenge.ipynb",
      "provenance": [],
      "collapsed_sections": [],
      "authorship_tag": "ABX9TyP3wWyGD6DFa4EdpnE10act",
      "include_colab_link": true
    },
    "kernelspec": {
      "name": "python3",
      "display_name": "Python 3"
    },
    "language_info": {
      "name": "python"
    }
  },
  "cells": [
    {
      "cell_type": "markdown",
      "metadata": {
        "id": "view-in-github",
        "colab_type": "text"
      },
      "source": [
        "<a href=\"https://colab.research.google.com/github/PoojaNapa/uniquify_coding_challenge/blob/main/UniquifyAI_CodingChallenge.ipynb\" target=\"_parent\"><img src=\"https://colab.research.google.com/assets/colab-badge.svg\" alt=\"Open In Colab\"/></a>"
      ]
    },
    {
      "cell_type": "markdown",
      "source": [
        "**UniquifyAI Coding Challenge**"
      ],
      "metadata": {
        "id": "cI4MngFyhaFI"
      }
    },
    {
      "cell_type": "code",
      "execution_count": null,
      "metadata": {
        "id": "ZWL9lxsHhLO2"
      },
      "outputs": [],
      "source": [
        "# Using Python, construct a class without importing any modules given the following guidelines:\n",
        "\n",
        "# -Given 2 inputs, data and shape, construct a tensor using nested lists.\n",
        "# -A tensor a general term for n-dimension matrix. (order goes scalar, vector, matrix, tensor)\n",
        "# -Data and shape inputs are given as lists of numbers. Data can be any number (int or float), but shape needs to be a list of positive integers.\n",
        "# -Data and shape inputs can be lists of any length.\n",
        "# -The constructed tensor can be saved as an instance variable, printed in standard output, or both.\n",
        "# -If too many data numbers, cut it off after the tensor fills up. If not enough, pad the tensor w/ zeroes.\n",
        "# -Output an empty list if the shape given is also an empty list ([])\n",
        " \n",
        "\n",
        "# Examples:\n",
        " \n",
        "# class Tensor():\n",
        "#   ...\n",
        "  \n",
        "#   def __init__(self, data, shape):\n",
        "#     self.data = data\n",
        "#     self.shape = shape\n",
        "#     self.tensor = ...\n",
        " \n",
        "#   def shape_data(self, ...):  \n",
        "#     # 'shape_data' is an example. feel free to name it whatever you want.\n",
        "#       ...\n",
        " \n",
        "#   ...\n",
        " \n",
        "\n",
        "# >>> data0 = [0, 1, 2, 3, 4, 5, 0.1, 0.2, -3]\n",
        "# >>> shape0 = [2, 3, 2]\n",
        "# >>> tensor0 = Tensor(data0, shape0)\n",
        " \n",
        "# output:\n",
        "# [[[0, 1], [2, 3], [4, 5]], [[0.1, 0.2], [-3, 0], [0, 0]]]\n",
        " \n",
        " \n",
        "# >>> data1 = [0, 1, 2, 3, 4, 5, 0.1, 0.2, -3, -2, -1, 3, 2, 1]\n",
        "# >>> shape1 = [5, 2]\n",
        "# >>> tensor1 = Tensor(data1, shape1)\n",
        " \n",
        "# output:\n",
        "# [[0, 1], [2, 3], [4, 5], [0.1, 0.2], [-3, -2]]\n",
        " \n",
        " \n",
        "# REMEMBER NOT TO IMPORT ANY MODULES OR LIBRARIES SUCH AS TENSORFLOW, NUMPY, OR SCIPY."
      ]
    },
    {
      "cell_type": "code",
      "source": [
        "class Tensor():\n",
        "    def __init__(self, data, shape):\n",
        "        if not self.__isValid(data, shape):\n",
        "            raise ValueError(\"Invalid Input. Check data and shape.\")\n",
        "        self.__data = data\n",
        "        self.__shape = shape\n",
        "        self.__tensor = self.__shapeData(self.__shape, self.__data)\n",
        "\n",
        "    def __isValid(self, data, shape):\n",
        "        return self.__isValidData(data) and self.__isValidShape(shape)\n",
        "\n",
        "    def __isValidData(self, data):\n",
        "        for element in data:\n",
        "            if type(element) != int and type(element) != float:\n",
        "                print(\"Invalid data type. Aborting\")\n",
        "                return False\n",
        "        return True\n",
        "\n",
        "    def __isValidShape(self, shape):\n",
        "        for element in shape:\n",
        "            if type(element) != int or element <= 0:\n",
        "                print(\"Invalid shape. Aborting\")\n",
        "                return False\n",
        "        return True \n",
        "\n",
        "    def __createRow(self, shape, data, index):\n",
        "        row = []\n",
        "        for iterator in range(shape[-1]):\n",
        "            currentIndex = index[\"index\"]\n",
        "            if currentIndex < len(data):\n",
        "                row.append(data[currentIndex])\n",
        "                currentIndex += 1\n",
        "                index[\"index\"] = currentIndex\n",
        "            else:\n",
        "                row.append(0)\n",
        "        return row\n",
        "\n",
        "    def __shapeData(self, shape, data):\n",
        "        dataIndexTracker = {'index': 0}\n",
        "        return self.__shapeDataHelper(shape, data, dataIndexTracker)\n",
        "\n",
        "    def __shapeDataHelper(self, shape, data, index):\n",
        "        if len(shape) == 0:\n",
        "            return []\n",
        "        elif len(shape) == 1:\n",
        "            return self.__createRow(shape, data, index)\n",
        "        \n",
        "        tensor = []\n",
        "        for j in range(shape[0]):\n",
        "            subTensor = self.__shapeDataHelper(shape[1:], data, index)\n",
        "            tensor.append(subTensor)\n",
        "        return tensor\n",
        "    \n",
        "    def __str__(self):\n",
        "        return str(self.__tensor)"
      ],
      "metadata": {
        "id": "OUNuz0RSfvIc"
      },
      "execution_count": null,
      "outputs": []
    },
    {
      "cell_type": "code",
      "source": [
        "##########################################\n",
        "############## Tests #####################\n",
        "##########################################\n",
        "def testTensorShapeCorrect():\n",
        "    expected0 = str([0, 1, -2])\n",
        "    data0 = [0, 1, -2]\n",
        "    shape0 = [3]\n",
        "    actual0 = str(Tensor(data0, shape0))\n",
        "    print(\"Is tensor0 shape correct?\")\n",
        "    print(\"Case #0. Shape=[3]. Data=[0, 1, -2].\")\n",
        "    print(\"Correct\" if expected0 == actual0 else \"Incorrect\")\n",
        "    print(\"**************\")\n",
        "\n",
        "def testTensorPadding():\n",
        "    expected1 = str([[[0, 1], [2, 3], [4, 5]], [[0.1, 0.2], [-3, 0], [0, 0]]])\n",
        "    data1 = [0, 1, 2, 3, 4, 5, 0.1, 0.2, -3]\n",
        "    shape1 = [2, 3, 2]\n",
        "    actual1 = str(Tensor(data1, shape1))\n",
        "    print(\"Is tensor1 shape correct?\")\n",
        "    print(\"Case #1. Shape=[2,3,2]. Data=[0, 1, 2, 3, 4, 5, 0.1, 0.2, -3].\")\n",
        "    print(\"Correct\" if expected1 == actual1 else \"Incorrect\")\n",
        "    print(\"**************\")\n",
        "\n",
        "def testTensorTruncate():\n",
        "    expected2 = str([[0, 1], [2, 3], [4, 5], [0.1, 0.2], [-3, -2]])\n",
        "    data2 = [0, 1, 2, 3, 4, 5, 0.1, 0.2, -3, -2, -1, 3, 2, 1] \n",
        "    shape2 = [5, 2]\n",
        "    actual2 = str(Tensor(data2, shape2))\n",
        "    print(\"Is tensor2 shape correct?\")\n",
        "    print(\"Case #2. Shape=[5, 2]. Data=[0, 1, 2, 3, 4, 5, 0.1, 0.2, -3, -2, -1, 3, 2, 1].\")\n",
        "    print(\"Correct\" if expected2 == actual2 else \"Incorrect\")\n",
        "    print(\"**************\")\n",
        "\n",
        "def testInputDataValidationCorrect():\n",
        "    try:\n",
        "        print(\"Is data3 valid?\")\n",
        "        data3 = [0,\"abc\", 1,2,3]\n",
        "        shape3 = [3,2,3]\n",
        "        t = Tensor(data3, shape3)\n",
        "        print(\"Invalid data not caught correctly, for data3 and shape3\")\n",
        "        print(\"**************\")\n",
        "    except ValueError:\n",
        "        print(\"Correctly caught invalid data, for data3, shape3\")\n",
        "        print(\"**************\")\n",
        "    \n",
        "    try:\n",
        "        print(\"Is data4 valid?\")\n",
        "        data4 = [0, 1, 2.0, 4.5, \"abc\"]\n",
        "        shape3 = [3,2,3]\n",
        "        t = Tensor(data4, shape3)\n",
        "        print(\"Invalid data not caught correctly, for data4 and shape3\")\n",
        "        print(\"**************\")\n",
        "    except ValueError:\n",
        "        print(\"Correctly caught invalid data, for data4 and shape3\")\n",
        "        print(\"**************\")\n",
        "    \n",
        "\n",
        "def testInputShapeValidationCorrect():\n",
        "    try:\n",
        "        print(\"Is shape5 valid?\")\n",
        "        data5 = [8, 5, 1, 6]\n",
        "        shape5 = [-1,2,3]\n",
        "        t = Tensor(data5, shape5)\n",
        "        print(\"Invalid shape not caught correctly, for data5 and shape5\")\n",
        "        print(\"**************\")\n",
        "    except ValueError:\n",
        "        print(\"Correctly caught invalid shape, for data5 and shape5\")\n",
        "        print(\"**************\")\n",
        "\n",
        "    try:\n",
        "        print(\"Is shape6 valid?\")\n",
        "        data5 = [8, 5, 1, 6]\n",
        "        shape6 = [3,2,0]\n",
        "        t = Tensor(data5, shape6)\n",
        "        print(\"Invalid shape not caught correctly, for data5 and shape6\")\n",
        "        print(\"**************\")\n",
        "    except ValueError:\n",
        "        print(\"Correctly caught invalid shape, for data5 and shape6\")\n",
        "        print(\"**************\")\n",
        "\n",
        "def testTensorEmpty():\n",
        "    expected7 = str([])\n",
        "    data7 = [0, 1, -2]\n",
        "    shape7 = []\n",
        "    actual7 = str(Tensor(data7, shape7))\n",
        "    print(\"Is tensor7 empty?\")\n",
        "    print(\"Case #7. Shape=[]. Data=[0, 1, -2].\")\n",
        "    print(\"Correct\" if expected7 == actual7 else \"Incorrect\")\n",
        "    print(\"**************\")"
      ],
      "metadata": {
        "id": "BVb4-D10fzHD"
      },
      "execution_count": null,
      "outputs": []
    },
    {
      "cell_type": "code",
      "source": [
        "def runTests():\n",
        "    testTensorShapeCorrect()\n",
        "    testTensorPadding()\n",
        "    testTensorTruncate()\n",
        "    testInputDataValidationCorrect()\n",
        "    testInputShapeValidationCorrect()\n",
        "    testTensorEmpty()"
      ],
      "metadata": {
        "id": "hPpbH4BcfzCz"
      },
      "execution_count": null,
      "outputs": []
    },
    {
      "cell_type": "code",
      "source": [
        "def main():\n",
        "    runTests()\n",
        "\n",
        "if __name__ == \"__main__\":\n",
        "    main()"
      ],
      "metadata": {
        "colab": {
          "base_uri": "https://localhost:8080/"
        },
        "id": "ZAC-ETuIfzAl",
        "outputId": "c4678d0d-4e00-4dfd-8b44-f42f09b02b68"
      },
      "execution_count": null,
      "outputs": [
        {
          "output_type": "stream",
          "name": "stdout",
          "text": [
            "Is tensor0 shape correct?\n",
            "Case #0. Shape=[3]. Data=[0, 1, -2].\n",
            "Correct\n",
            "**************\n",
            "Is tensor1 shape correct?\n",
            "Case #1. Shape=[2,3,2]. Data=[0, 1, 2, 3, 4, 5, 0.1, 0.2, -3].\n",
            "Correct\n",
            "**************\n",
            "Is tensor2 shape correct?\n",
            "Case #2. Shape=[5, 2]. Data=[0, 1, 2, 3, 4, 5, 0.1, 0.2, -3, -2, -1, 3, 2, 1].\n",
            "Correct\n",
            "**************\n",
            "Is data3 valid?\n",
            "Invalid data type. Aborting\n",
            "Correctly caught invalid data, for data3, shape3\n",
            "**************\n",
            "Is data4 valid?\n",
            "Invalid data type. Aborting\n",
            "Correctly caught invalid data, for data4 and shape3\n",
            "**************\n",
            "Is shape5 valid?\n",
            "Invalid shape. Aborting\n",
            "Correctly caught invalid shape, for data5 and shape5\n",
            "**************\n",
            "Is shape6 valid?\n",
            "Invalid shape. Aborting\n",
            "Correctly caught invalid shape, for data5 and shape6\n",
            "**************\n",
            "Is tensor7 empty?\n",
            "Case #7. Shape=[]. Data=[0, 1, -2].\n",
            "Correct\n",
            "**************\n"
          ]
        }
      ]
    },
    {
      "cell_type": "code",
      "source": [
        ""
      ],
      "metadata": {
        "id": "phBBsITIzUtc"
      },
      "execution_count": null,
      "outputs": []
    }
  ]
}